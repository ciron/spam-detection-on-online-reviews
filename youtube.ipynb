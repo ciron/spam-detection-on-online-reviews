{
 "cells": [
  {
   "cell_type": "code",
   "execution_count": 1,
   "metadata": {},
   "outputs": [
    {
     "name": "stdout",
     "output_type": "stream",
     "text": [
      "Welcome to Spam detection system\n"
     ]
    }
   ],
   "source": [
    "print('Welcome to Spam detection system')"
   ]
  },
  {
   "cell_type": "code",
   "execution_count": 1,
   "metadata": {},
   "outputs": [],
   "source": [
    "import pandas as pd\n",
    "import numpy as np"
   ]
  },
  {
   "cell_type": "code",
   "execution_count": 2,
   "metadata": {},
   "outputs": [],
   "source": [
    "# ML packages for vectorization of text for feature extraction\n",
    "from sklearn.feature_extraction.text import CountVectorizer\n",
    "from sklearn.feature_extraction.text import TfidfVectorizer"
   ]
  },
  {
   "cell_type": "code",
   "execution_count": 3,
   "metadata": {},
   "outputs": [],
   "source": [
    "# some package library for visualization data\n",
    "import matplotlib.pyplot as plt\n",
    "import seaborn as sns"
   ]
  },
  {
   "cell_type": "code",
   "execution_count": 4,
   "metadata": {},
   "outputs": [],
   "source": [
    "# Dataset from https://archive.ics.uci.edu/ml/datasets/YouTube+Spam+Collection#\n",
    "df1=pd.read_csv(\"data/Youtube01-Psy.csv\")\n",
    "df2=pd.read_csv(\"data/Youtube02-KatyPerry.csv\")\n",
    "df3=pd.read_csv(\"data/Youtube03-LMFAO.csv\")\n",
    "df4=pd.read_csv(\"data/Youtube04-Eminem.csv\")\n",
    "df5=pd.read_csv(\"data/Youtube05-Shakira.csv\")"
   ]
  },
  {
   "cell_type": "code",
   "execution_count": 5,
   "metadata": {},
   "outputs": [],
   "source": [
    "datalist = [df1,df2,df3,df4,df5]"
   ]
  },
  {
   "cell_type": "code",
   "execution_count": 6,
   "metadata": {},
   "outputs": [],
   "source": [
    "namekey=[\"Psy\",\"KatyPerry\",\"LMFAO\",\"Eminem\",\"Shakira\"] # this is namekey list"
   ]
  },
  {
   "cell_type": "code",
   "execution_count": 7,
   "metadata": {},
   "outputs": [
    {
     "data": {
      "text/plain": [
       "(1956, 5)"
      ]
     },
     "execution_count": 7,
     "metadata": {},
     "output_type": "execute_result"
    }
   ],
   "source": [
    "data=pd.concat(datalist,keys=namekey)\n",
    "data.shape"
   ]
  },
  {
   "cell_type": "code",
   "execution_count": 8,
   "metadata": {},
   "outputs": [
    {
     "data": {
      "text/plain": [
       "(448, 5)"
      ]
     },
     "execution_count": 8,
     "metadata": {},
     "output_type": "execute_result"
    }
   ],
   "source": [
    "# data.loc['Eminem'] # this is the only Eminem youtube comments data\n",
    "data.loc['Eminem'].shape"
   ]
  },
  {
   "cell_type": "code",
   "execution_count": 9,
   "metadata": {},
   "outputs": [
    {
     "data": {
      "text/plain": [
       "COMMENT_ID    0\n",
       "AUTHOR        0\n",
       "DATE          0\n",
       "CONTENT       0\n",
       "CLASS         0\n",
       "dtype: int64"
      ]
     },
     "execution_count": 9,
     "metadata": {},
     "output_type": "execute_result"
    }
   ],
   "source": [
    "data.size # total number of elements in both rows and column\n",
    "data.columns # showing column name in dataset\n",
    "data.dtypes # showing the column name type\n",
    "data.isnull().isnull().sum() # checking for is any column value is null or not\n",
    "# data[\"DATE\"] # SHOWING A SINGLE COLUMN ALL VALUE FROM DATASETS"
   ]
  },
  {
   "cell_type": "code",
   "execution_count": 10,
   "metadata": {},
   "outputs": [],
   "source": [
    "xy=data[[\"CONTENT\",\"CLASS\"]]\n",
    "x=xy['CONTENT'] # TAKING ONLY CONTENT (COMMENTS) IN X\n",
    "y=xy['CLASS'] # TAKING ONLY CLASS (SPAM OR HAM) IN Y"
   ]
  },
  {
   "cell_type": "code",
   "execution_count": 11,
   "metadata": {},
   "outputs": [],
   "source": [
    "xy=data[[\"CONTENT\",\"CLASS\"]]\n",
    "x=xy['CONTENT'] # TAKING ONLY CONTENT (COMMENTS) IN X\n",
    "y=xy['CLASS'] # TAKING ONLY CLASS (SPAM OR HAM) IN Y"
   ]
  },
  {
   "cell_type": "code",
   "execution_count": 12,
   "metadata": {},
   "outputs": [],
   "source": [
    "cv=CountVectorizer()\n",
    "ex=cv.fit_transform(x) "
   ]
  },
  {
   "cell_type": "code",
   "execution_count": 13,
   "metadata": {},
   "outputs": [],
   "source": [
    "from sklearn.model_selection import train_test_split as tts"
   ]
  },
  {
   "cell_type": "code",
   "execution_count": 14,
   "metadata": {},
   "outputs": [],
   "source": [
    "x_train, x_test, y_train, y_test = tts(ex,y,test_size=0.33, random_state=32)"
   ]
  },
  {
   "cell_type": "code",
   "execution_count": 15,
   "metadata": {},
   "outputs": [],
   "source": [
    "from sklearn.naive_bayes import MultinomialNB # WE ARE CHOOSING NAIVE BAYES ALGORITHM\n",
    "from sklearn import metrics\n",
    "NBclf = MultinomialNB()\n",
    "NBclf.fit(x_train,y_train) # FIT TRAINING TESTING DATASETS INTO CLASSIFIER\n",
    "pred1=NBclf.predict(x_test) # FOR TAKING ALL TEST DATA PREDICTION\n",
    "# print(pred1)"
   ]
  },
  {
   "cell_type": "code",
   "execution_count": 16,
   "metadata": {},
   "outputs": [
    {
     "name": "stdout",
     "output_type": "stream",
     "text": [
      "ACCURACY OF NAIVE BAYES CLASSIFIER IS: 93 %\n"
     ]
    }
   ],
   "source": [
    "#clf.score(x_test,y_test) # finding the score of classifier by giving test data\n",
    "accu1=NBclf.score(x_test,y_test)\n",
    "accu1=int(accu1*100)\n",
    "print(\"ACCURACY OF NAIVE BAYES CLASSIFIER IS:\",accu1,\"%\")"
   ]
  },
  {
   "cell_type": "code",
   "execution_count": 17,
   "metadata": {},
   "outputs": [
    {
     "name": "stdout",
     "output_type": "stream",
     "text": [
      "ACCURACY OF SMV MODEL IS:  95 %\n"
     ]
    }
   ],
   "source": [
    "from sklearn import svm\n",
    "from sklearn import metrics\n",
    "svmClf = svm.SVC(kernel='linear') # Linear kernel\n",
    "svmClf.fit(x_train,y_train)\n",
    "pred=svmClf.predict(x_test) # FOR SHOWING ALL OUTPUTS PREDICTION\n",
    "accu2=metrics.accuracy_score(y_test,pred)\n",
    "accu2=int(accu2*100)\n",
    "print(\"ACCURACY OF SMV MODEL IS: \",accu2,\"%\")\n",
    "# print(pred)"
   ]
  },
  {
   "cell_type": "code",
   "execution_count": 18,
   "metadata": {},
   "outputs": [
    {
     "name": "stdout",
     "output_type": "stream",
     "text": [
      "ACCURACY OF DECISION TREE CLASSIFIER IS:  95 %\n"
     ]
    }
   ],
   "source": [
    "from sklearn.tree import DecisionTreeClassifier\n",
    "DCclf = DecisionTreeClassifier()\n",
    "DCclf = DCclf.fit(x_train,y_train)\n",
    "DCpred = DCclf.predict(x_test)\n",
    "# print(DCpred)\n",
    "accu3=metrics.accuracy_score(y_test,DCpred)\n",
    "accu3=int(accu3*100)\n",
    "print(\"ACCURACY OF DECISION TREE CLASSIFIER IS: \",accu3,\"%\")"
   ]
  },
  {
   "cell_type": "code",
   "execution_count": 19,
   "metadata": {},
   "outputs": [
    {
     "name": "stdout",
     "output_type": "stream",
     "text": [
      "ACCURACY OF KNEAREST NEIGHBORS CLASSIFIER IS:  85 %\n"
     ]
    }
   ],
   "source": [
    "from sklearn.neighbors import KNeighborsClassifier as knc\n",
    "from sklearn import metrics\n",
    "\n",
    "knn= knc(n_neighbors=5)\n",
    "knn.fit(x_train,y_train)\n",
    "knnpred=knn.predict(x_test)\n",
    "# print(knnpred)\n",
    "accu4=metrics.accuracy_score(y_test,knnpred)\n",
    "accu4=int(accu4*100)\n",
    "print(\"ACCURACY OF KNEAREST NEIGHBORS CLASSIFIER IS: \",accu4,\"%\")"
   ]
  },
  {
   "cell_type": "code",
   "execution_count": 20,
   "metadata": {},
   "outputs": [
    {
     "name": "stdout",
     "output_type": "stream",
     "text": [
      "ACCURACY OF LOGISTIC REGRESSION IS:  96 %\n"
     ]
    }
   ],
   "source": [
    "from sklearn.linear_model import LogisticRegression as LR\n",
    "from sklearn import metrics\n",
    "logreg= LR()\n",
    "logreg=logreg.fit(x_train,y_train)\n",
    "logpred=logreg.predict(x_test)\n",
    "accu5=metrics.accuracy_score(y_test,logpred)\n",
    "accu5=int(accu5*100)\n",
    "print(\"ACCURACY OF LOGISTIC REGRESSION IS: \",accu5,\"%\")\n",
    "# print(pred5)"
   ]
  },
  {
   "cell_type": "code",
   "execution_count": 21,
   "metadata": {},
   "outputs": [
    {
     "name": "stdout",
     "output_type": "stream",
     "text": [
      "ACCURACY OF NAIVE BAYES CLASSIFIER IS        :  93 %\n",
      "ACCURACY OF SMV MODEL IS                     :  95 %\n",
      "ACCURACY OF DECISION TREE CLASSIFIER IS      :  95 %\n",
      "ACCURACY OF KNEAREST NEIGHBORS CLASSIFIER IS :  85 %\n",
      "ACCURACY OF LOGISTIC REGRESSION IS           :  96 %\n"
     ]
    }
   ],
   "source": [
    "print(\"ACCURACY OF NAIVE BAYES CLASSIFIER IS        : \",accu1,\"%\")\n",
    "print(\"ACCURACY OF SMV MODEL IS                     : \",accu2,\"%\")\n",
    "print(\"ACCURACY OF DECISION TREE CLASSIFIER IS      : \",accu3,\"%\")\n",
    "print(\"ACCURACY OF KNEAREST NEIGHBORS CLASSIFIER IS : \",accu4,\"%\")\n",
    "print(\"ACCURACY OF LOGISTIC REGRESSION IS           : \",accu5,\"%\")"
   ]
  },
  {
   "cell_type": "code",
   "execution_count": 22,
   "metadata": {},
   "outputs": [
    {
     "name": "stdout",
     "output_type": "stream",
     "text": [
      "Enter your comment: well content \n",
      "This is Not Spam\n"
     ]
    }
   ],
   "source": [
    "comment = input(\"Enter your comment: \")\n",
    "comnt=[comment]\n",
    "vectComnt = cv.transform(comnt).toarray() # vectorizing this input comment\n",
    "NBclf.predict(vectComnt)\n",
    "SH={\"Ham\":0,\"Spam\":1}\n",
    "# SH.values()\n",
    "if NBclf.predict(vectComnt)==1:\n",
    "    print(\"This is Spam\")\n",
    "else:\n",
    "    print(\"This is Not Spam\")"
   ]
  },
  {
   "cell_type": "code",
   "execution_count": null,
   "metadata": {},
   "outputs": [],
   "source": []
  }
 ],
 "metadata": {
  "kernelspec": {
   "display_name": "Python 3",
   "language": "python",
   "name": "python3"
  },
  "language_info": {
   "codemirror_mode": {
    "name": "ipython",
    "version": 3
   },
   "file_extension": ".py",
   "mimetype": "text/x-python",
   "name": "python",
   "nbconvert_exporter": "python",
   "pygments_lexer": "ipython3",
   "version": "3.8.5"
  }
 },
 "nbformat": 4,
 "nbformat_minor": 4
}
