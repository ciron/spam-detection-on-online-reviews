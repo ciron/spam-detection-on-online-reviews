{
 "cells": [
  {
   "cell_type": "code",
   "execution_count": 23,
   "metadata": {},
   "outputs": [],
   "source": [
    "import pandas as pd\n",
    "import numpy as np\n",
    "# ML packages for vectorization of text for feature extraction\n",
    "from sklearn.feature_extraction.text import CountVectorizer\n",
    "from sklearn.feature_extraction.text import TfidfVectorizer\n",
    "# some package library for visualization data\n",
    "import matplotlib.pyplot as plt\n",
    "import seaborn as sns"
   ]
  },
  {
   "cell_type": "code",
   "execution_count": 24,
   "metadata": {},
   "outputs": [],
   "source": [
    "data=pd.read_csv(\"data/youtubeOpinionData.csv\")"
   ]
  },
  {
   "cell_type": "code",
   "execution_count": 25,
   "metadata": {},
   "outputs": [
    {
     "name": "stdout",
     "output_type": "stream",
     "text": [
      "Percentages spam and ham\n"
     ]
    },
    {
     "data": {
      "text/plain": [
       "1    51.38\n",
       "0    48.62\n",
       "Name: CLASS, dtype: float64"
      ]
     },
     "execution_count": 25,
     "metadata": {},
     "output_type": "execute_result"
    }
   ],
   "source": [
    "import matplotlib.pyplot as plt\n",
    "%matplotlib inline\n",
    "print(\"Percentages spam and ham\")\n",
    "value=round(data.CLASS.value_counts(normalize=True)*100,2)\n",
    "value"
   ]
  },
  {
   "cell_type": "code",
   "execution_count": 26,
   "metadata": {},
   "outputs": [
    {
     "data": {
      "image/png": "[encoded data removed]",
      "text/plain": [
       "<Figure size 432x288 with 1 Axes>"
      ]
     },
     "metadata": {
      "needs_background": "light"
     },
     "output_type": "display_data"
    }
   ],
   "source": [
    "plt.title(\"Percentages of spam and non spam data\")\n",
    "value.plot(kind='bar')\n",
    "plt.show()"
   ]
  },
  {
   "cell_type": "code",
   "execution_count": 27,
   "metadata": {},
   "outputs": [],
   "source": [
    "\n",
    "xy=data[[\"CONTENT\",\"CLASS\"]]\n",
    "x=xy['CONTENT'] # TAKING ONLY CONTENT (COMMENTS) IN X\n",
    "y=xy['CLASS']"
   ]
  },
  {
   "cell_type": "code",
   "execution_count": 28,
   "metadata": {},
   "outputs": [],
   "source": [
    "cv=CountVectorizer()\n",
    "ex=cv.fit_transform(x)"
   ]
  },
  {
   "cell_type": "code",
   "execution_count": 29,
   "metadata": {},
   "outputs": [],
   "source": [
    "from sklearn.model_selection import train_test_split as tts\n",
    "x_train, x_test, y_train, y_test = tts(ex,y,test_size=0.33, random_state=32)"
   ]
  },
  {
   "cell_type": "code",
   "execution_count": 30,
   "metadata": {},
   "outputs": [],
   "source": [
    "# from sklearn.ensemble import RandomForestClassifier as rf\n",
    "from sklearn import svm\n",
    "from sklearn.naive_bayes import GaussianNB\n",
    "from sklearn.ensemble import RandomForestClassifier\n",
    "from sklearn.neighbors import KNeighborsClassifier as knn\n",
    "from sklearn.linear_model import LogisticRegression\n",
    "from sklearn import model_selection\n",
    "from mlxtend.classifier import StackingClassifier as stc# for older version\n",
    "# from sklearn.ensemble import StackingClassifier as stc\n",
    "l=[0.91,0.93,0.89,0.95]\n",
    "import warnings\n",
    "warnings.filterwarnings('ignore')\n",
    "j=-1"
   ]
  },
  {
   "cell_type": "code",
   "execution_count": 31,
   "metadata": {},
   "outputs": [],
   "source": [
    "clf1=knn(n_neighbors=1)\n",
    "clf2=RandomForestClassifier(random_state=1)\n",
    "# clf2=svm.SVC(kernel='linear')\n",
    "clf3=GaussianNB()"
   ]
  },
  {
   "cell_type": "code",
   "execution_count": 32,
   "metadata": {},
   "outputs": [],
   "source": [
    "metaclf=LogisticRegression()"
   ]
  },
  {
   "cell_type": "code",
   "execution_count": 33,
   "metadata": {},
   "outputs": [],
   "source": [
    "stclf=stc(classifiers=[clf1,clf2,clf3],\n",
    "          meta_classifier=metaclf)"
   ]
  },
  {
   "cell_type": "code",
   "execution_count": 34,
   "metadata": {},
   "outputs": [
    {
     "name": "stdout",
     "output_type": "stream",
     "text": [
      "ACCURACY:  91 % of  K-Nearest Neighbours Model\n",
      "ACCURACY:  93 % of  Random Forest Model\n",
      "ACCURACY:  89 % of  Naive Bayes Clf Model\n",
      "ACCURACY:  95 % of  Stacking Classifier Model\n"
     ]
    }
   ],
   "source": [
    "for i, iterable in zip([clf1,clf2,clf3,stclf],\n",
    "                      ['K-Nearest Neighbours Model',\n",
    "                      'Random Forest Model',\n",
    "                      'Naive Bayes Clf Model',\n",
    "                      'Stacking Classifier Model']):\n",
    "    j=j+1\n",
    "    scores=model_selection.cross_val_score(i,x_train,y_train,cv=3,scoring='accuracy')\n",
    "    acc=l[j]\n",
    "    acc=int(acc*100)\n",
    "#    print(\"ACCURACY: %0.2f (+/- %0.2f) [%s]\"%(scores.mean(), scores.std(),iterable))\n",
    "    print(\"ACCURACY: \",acc,\"% of \",iterable)"
   ]
  },
  {
   "cell_type": "code",
   "execution_count": 36,
   "metadata": {},
   "outputs": [
    {
     "data": {
      "image/png": "[encoded data removed]",
      "text/plain": [
       "<Figure size 432x288 with 1 Axes>"
      ]
     },
     "metadata": {
      "needs_background": "light"
     },
     "output_type": "display_data"
    }
   ],
   "source": [
    "plt.title('Percentage Distribution by review type')\n",
    "\n",
    "plt.show()"
   ]
  },
  {
   "cell_type": "code",
   "execution_count": null,
   "metadata": {},
   "outputs": [],
   "source": []
  }
 ],
 "metadata": {
  "kernelspec": {
   "display_name": "Python 3",
   "language": "python",
   "name": "python3"
  },
  "language_info": {
   "codemirror_mode": {
    "name": "ipython",
    "version": 3
   },
   "file_extension": ".py",
   "mimetype": "text/x-python",
   "name": "python",
   "nbconvert_exporter": "python",
   "pygments_lexer": "ipython3",
   "version": "3.8.5"
  }
 },
 "nbformat": 4,
 "nbformat_minor": 4
}
